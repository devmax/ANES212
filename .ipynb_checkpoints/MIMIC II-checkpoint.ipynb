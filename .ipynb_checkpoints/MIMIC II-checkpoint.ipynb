{
 "cells": [
  {
   "cell_type": "markdown",
   "metadata": {},
   "source": [
    "The MIMIC II Waveform Database contains thousands of recordings of multiple physiologic signals (\"waveforms\") and time series of vital signs (\"numerics\") collected from bedside patient monitors in adult and neonatal intensive care units (ICUs). It is a companion to the [MIMIC II Clinical Database](https://physionet.org/physiobank/tutorials/using-mimic2/), which contains detailed clinical information for many of the patients represented in the Waveform Database. \n",
    "\n",
    "Briefly, all files associated with each record are gathered in a subdirectory named after the record. For example, the files associated with record a40001 are all located within the directory named a40001 (at the top of the listing below). The files associated with the high-resolution (125 samples/second) physiologic waveform records are the master header (a40001.hea) in which all of the segments and their lengths are listed, the (binary) event annotation file (a40001.al), the layout header (a40001_layout.hea) in which all of the available signals are listed, and the segment header (.hea) and signal (.dat) files with names beginning with \"a40001_\". In addition, the \"numerics\" record header (a40001n.hea) and its associated binary trend data file (a40001n.dat) are included, as are a low-resolution signal quality index header (a40001T.hea) and its binary data file (a40001T).\n",
    "\n",
    "In some cases, multiple records associated with the same ICU stay are grouped together within a directory. For example, records a40018a, a40018b, and a40018c are grouped together in the a40018 directory. In some such cases, it is possible that records grouped together in this way belong to different patients.\n",
    "\n",
    "In this tutorial, we'll learn how to download the MIMIC II records needed for the AHE challenge, and access both the waveforms and numerics for each of these records. For this tutorial, please make sure the following packages are installed: [wfdb](https://anaconda.org/conda-forge/wfdb), [urllib](https://anaconda.org/ulmo/urllib3) and [bs4](https://anaconda.org/anaconda/beautifulsoup4). Furthermore, this tutorial assumes the use of Python 3."
   ]
  },
  {
   "cell_type": "code",
   "execution_count": 1,
   "metadata": {},
   "outputs": [],
   "source": [
    "import urllib\n",
    "from bs4 import BeautifulSoup\n",
    "import wfdb\n",
    "import matplotlib.pyplot as plt\n",
    "import os\n",
    "\n",
    "# The URL for the training set\n",
    "url = \"https://www.physionet.org/challenge/2009/training-set.shtml\"\n",
    "# The text on the webpage\n",
    "text = urllib.request.urlopen(url)\n",
    "# The parsed HTML page\n",
    "parsed_html = BeautifulSoup(text, \"lxml\")\n",
    "\n",
    "# This is the main website that hosts all the data\n",
    "physionet = \"https://www.physionet.org\"\n",
    "\n",
    "# Get all four table headers (i.e., groups H1, H2, C1, C2, etc.)\n",
    "table_headers = parsed_html.find_all(\"h2\")\n"
   ]
  },
  {
   "cell_type": "markdown",
   "metadata": {},
   "source": [
    "In the following lines, we'll download and store all the training data on disk. Essentially, we're doing a lot of HTML parsing to get the names of the records and the files names associated with each record. Once we have all these names, we download all these files to a location on disk (you should change this to an appropriate location for your machine). Note that the code below can take a while to execute (especially if you read the raw waveform data) In the code below, we limit the downloads to the first table so you can test the code out first. You can download the entire dataset by removing the \"[:1]\" slice from the loop variable, as described in the comments below."
   ]
  },
  {
   "cell_type": "code",
   "execution_count": 2,
   "metadata": {},
   "outputs": [
    {
     "name": "stdout",
     "output_type": "stream",
     "text": [
      "Reading record a40439n in group H1\n",
      "Reading record a40493n in group H1\n",
      "Reading record a40764n in group H1\n",
      "Reading record a40834n in group H1\n",
      "Reading record a40928n in group H1\n",
      "Reading record a41200n in group H1\n",
      "Reading record a41447n in group H1\n",
      "Reading record a41770n in group H1\n",
      "Reading record a41835n in group H1\n",
      "Reading record a41882n in group H1\n",
      "Reading record a41925n in group H1\n",
      "Reading record a42277n in group H1\n",
      "Reading record a42397n in group H1\n",
      "Reading record a42410n in group H1\n",
      "Reading record a42928n in group H1\n"
     ]
    }
   ],
   "source": [
    "# Store the name of each record, and the group it belongs to\n",
    "training_data = {}\n",
    " \n",
    "# Remove the [:1] in the next line to read from all 4 groups\n",
    "for header in table_headers[:1]:\n",
    "    # Get the name of the group. The header name starts with \"Group **, ...\" -- we want to get the ** from this name\n",
    "    group_name = header.text.strip().split(\"Group \")[1][:2]\n",
    "    # Get the text in the current table\n",
    "    table = header.find_next(\"table\")\n",
    "    # Iterate through each of the records\n",
    "    record_objs = table.find_all(\"tr\")[1:]\n",
    "    \n",
    "    for record_obj in record_objs:\n",
    "        if len(record_obj.find_all(\"td\")) > 1:\n",
    "            # Get the line corresponding to the numerics record. Use index [1] (instead of 2)\n",
    "            # for the waveforms record, and index [0] for the clinical record\n",
    "            record_line = record_obj.find_all(\"td\")[2]\n",
    "            record_name = record_line.text\n",
    "        \n",
    "            print(\"Reading record %s in group %s\" % (record_name, group_name))\n",
    "        \n",
    "            # Build the url for the current record\n",
    "            record_url = physionet + record_line.a[\"href\"]\n",
    "            # Parse the html page to extract all the files that belong to the current record\n",
    "            parsed_record_html = BeautifulSoup(urllib.request.urlopen(record_url), \"lxml\")\n",
    "            files = parsed_record_html.find_all(\"a\")\n",
    "        \n",
    "            # Store the name of this record, and the group it belongs to\n",
    "            training_data[record_name] = group_name\n",
    "        \n",
    "            for file in files:\n",
    "                if file.text.startswith(record_name):\n",
    "                    curr_file = record_url + file[\"href\"]\n",
    "                \n",
    "                    # Download the current file\n",
    "                    urllib.request.urlretrieve(curr_file, \"./samples/\" +\n",
    "                                               file.text)"
   ]
  },
  {
   "cell_type": "markdown",
   "metadata": {},
   "source": [
    "Now that we've stored all the records on disk, we'll read them using the wfdb package to access the actual signals associated with these records. In the following example, we'll read one of the records in the training data we setup above."
   ]
  },
  {
   "cell_type": "code",
   "execution_count": 3,
   "metadata": {},
   "outputs": [
    {
     "name": "stdout",
     "output_type": "stream",
     "text": [
      "Read record with the following signals: HR,ABPSys,ABPDias,ABPMean,CVP,PULSE,RESP,SpO2,NBPSys,NBPDias,NBPMean\n"
     ]
    },
    {
     "data": {
      "image/png": "[encoded data removed]",
      "text/plain": [
       "<matplotlib.figure.Figure at 0x113363c18>"
      ]
     },
     "metadata": {},
     "output_type": "display_data"
    }
   ],
   "source": [
    "# We'll read the numerics for the first record in the training data\n",
    "record_name = \"a40439n\"\n",
    "\n",
    "signal = wfdb.rdrecord(\"samples/\" + record_name)\n",
    "\n",
    "print(\"Read record with the following signals: %s\" % \",\".join(signal.sig_name))\n",
    "\n",
    "# Access the physical signal associated with this record\n",
    "p_signal = signal.p_signal\n",
    "\n",
    "# Get the index of the signal that corresponds to ABPMean\n",
    "abp_index = signal.sig_name.index(\"ABPMean\")\n",
    "\n",
    "# Plot the ABP for this patient\n",
    "samp_freq = signal.fs\n",
    "t = np.linspace(0, p_signal.shape[0] - 1, p_signal.shape[0]) / samp_freq\n",
    "\n",
    "plt.plot(t, p_signal[:, abp_index])\n",
    "plt.xlabel(\"Time (seconds)\")\n",
    "plt.ylabel(\"ABPMean\")\n",
    "plt.show()"
   ]
  }
 ],
 "metadata": {
  "kernelspec": {
   "display_name": "Python 3",
   "language": "python",
   "name": "python3"
  },
  "language_info": {
   "codemirror_mode": {
    "name": "ipython",
    "version": 3
   },
   "file_extension": ".py",
   "mimetype": "text/x-python",
   "name": "python",
   "nbconvert_exporter": "python",
   "pygments_lexer": "ipython3",
   "version": "3.6.4"
  }
 },
 "nbformat": 4,
 "nbformat_minor": 2
}
